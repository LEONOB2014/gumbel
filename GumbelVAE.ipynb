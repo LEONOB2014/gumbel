{
 "cells": [
  {
   "cell_type": "code",
   "execution_count": 1,
   "metadata": {
    "collapsed": false
   },
   "outputs": [
    {
     "name": "stdout",
     "output_type": "stream",
     "text": [
      "Populating the interactive namespace from numpy and matplotlib\n"
     ]
    }
   ],
   "source": [
    "%pylab inline"
   ]
  },
  {
   "cell_type": "code",
   "execution_count": 2,
   "metadata": {
    "collapsed": false
   },
   "outputs": [
    {
     "name": "stderr",
     "output_type": "stream",
     "text": [
      "Using Theano backend.\n"
     ]
    },
    {
     "name": "stdout",
     "output_type": "stream",
     "text": [
      "Train on 60000 samples, validate on 10000 samples\n",
      "Epoch 1/1\n",
      "60000/60000 [==============================] - 35s - loss: 105.7564 - val_loss: 59.7007\n",
      "Train on 60000 samples, validate on 10000 samples\n",
      "Epoch 1/1\n",
      "60000/60000 [==============================] - 37s - loss: 44.9915 - val_loss: 33.3453\n",
      "Train on 60000 samples, validate on 10000 samples\n",
      "Epoch 1/1\n",
      "60000/60000 [==============================] - 39s - loss: 27.7229 - val_loss: 21.8194\n",
      "Train on 60000 samples, validate on 10000 samples\n",
      "Epoch 1/1\n",
      "60000/60000 [==============================] - 46s - loss: 19.4595 - val_loss: 15.3097\n",
      "Train on 60000 samples, validate on 10000 samples\n",
      "Epoch 1/1\n",
      "60000/60000 [==============================] - 49s - loss: 14.0679 - val_loss: 11.1422\n",
      "Train on 60000 samples, validate on 10000 samples\n",
      "Epoch 1/1\n",
      "60000/60000 [==============================] - 50s - loss: 10.4756 - val_loss: 8.3099\n",
      "Train on 60000 samples, validate on 10000 samples\n",
      "Epoch 1/1\n",
      "60000/60000 [==============================] - 43s - loss: 7.9036 - val_loss: 6.2748\n",
      "Train on 60000 samples, validate on 10000 samples\n",
      "Epoch 1/1\n",
      "60000/60000 [==============================] - 41s - loss: 5.8217 - val_loss: 4.6163\n",
      "Train on 60000 samples, validate on 10000 samples\n",
      "Epoch 1/1\n",
      "60000/60000 [==============================] - 40s - loss: 4.2005 - val_loss: 3.2218\n",
      "Train on 60000 samples, validate on 10000 samples\n",
      "Epoch 1/1\n",
      "60000/60000 [==============================] - 39s - loss: 2.8847 - val_loss: 1.8522\n"
     ]
    }
   ],
   "source": [
    "import numpy as np\n",
    "import matplotlib.pyplot as plt\n",
    "\n",
    "from keras.layers import Input, Dense, Lambda\n",
    "from keras.models import Model, Sequential\n",
    "from keras import backend as K\n",
    "from keras import objectives\n",
    "from keras.datasets import mnist\n",
    "from keras.activations import softmax\n",
    "from keras.objectives import binary_crossentropy as bce\n",
    "\n",
    "batch_size = 100\n",
    "data_dim = 784\n",
    "M = 10\n",
    "N = 30\n",
    "nb_epoch = 10\n",
    "epsilon_std = 0.01\n",
    "\n",
    "anneal_rate = 0.0003\n",
    "min_temperature = 0.5\n",
    "\n",
    "tau = K.variable(5.0, name=\"temperature\")\n",
    "x = Input(batch_shape=(batch_size, data_dim))\n",
    "h = Dense(256, activation='relu')(Dense(512, activation='relu')(x))\n",
    "logits_y = Dense(M*N)(h)\n",
    "\n",
    "def sampling(logits_y):\n",
    "    U = K.random_uniform(K.shape(logits_y), 0, 1)\n",
    "    y = logits_y - K.log(-K.log(U + 1e-20) + 1e-20) # logits + gumbel noise\n",
    "    y = softmax(K.reshape(y, (-1, N, M)) / tau)\n",
    "    y = K.reshape(y, (-1, N*M))\n",
    "    return y\n",
    "\n",
    "z = Lambda(sampling, output_shape=(M*N,))(logits_y)\n",
    "generator = Sequential()\n",
    "generator.add(Dense(256, activation='relu', input_shape=(N*M, )))\n",
    "generator.add(Dense(512, activation='relu'))\n",
    "generator.add(Dense(data_dim, activation='sigmoid'))\n",
    "x_hat = generator(z)\n",
    "\n",
    "# x_hat = Dense(data_dim, activation='softmax')(Dense(512, activation='relu')(Dense(256, activation='relu')(z)))\n",
    "def gumbel_loss(x, x_hat):\n",
    "    q_y = K.reshape(logits_y, (-1, N, M))\n",
    "    q_y = softmax(q_y)\n",
    "    log_q_y = K.log(q_y + 1e-20)\n",
    "    kl_tmp = q_y * (log_q_y - K.log(1.0/M))\n",
    "    KL = K.sum(kl_tmp, axis=(1, 2))\n",
    "    elbo = data_dim * bce(x, x_hat) - KL \n",
    "    return elbo\n",
    "\n",
    "vae = Model(x, x_hat)\n",
    "vae.compile(optimizer='adam', loss=gumbel_loss)\n",
    "\n",
    "# train the VAE on MNIST digits\n",
    "(x_train, y_train), (x_test, y_test) = mnist.load_data()\n",
    "\n",
    "x_train = x_train.astype('float32') / 255.\n",
    "x_test = x_test.astype('float32') / 255.\n",
    "x_train = x_train.reshape((len(x_train), np.prod(x_train.shape[1:])))\n",
    "x_test = x_test.reshape((len(x_test), np.prod(x_test.shape[1:])))\n",
    "\n",
    "for e in range(nb_epoch):\n",
    "    vae.fit(x_train, x_train,\n",
    "        shuffle=True,\n",
    "        nb_epoch=1,\n",
    "        batch_size=batch_size,\n",
    "        validation_data=(x_test, x_test))\n",
    "    K.set_value(tau, np.max([K.get_value(tau) * np.exp(- anneal_rate * e), min_temperature]))"
   ]
  },
  {
   "cell_type": "markdown",
   "metadata": {},
   "source": [
    "# Visualize results"
   ]
  },
  {
   "cell_type": "code",
   "execution_count": 3,
   "metadata": {
    "collapsed": false
   },
   "outputs": [],
   "source": [
    "argmax_y = K.max(K.reshape(logits_y, (-1, N, M)), axis=-1, keepdims=True)\n",
    "argmax_y = K.equal(K.reshape(logits_y, (-1, N, M)), argmax_y)\n",
    "encoder = K.function([x], [argmax_y, x_hat])"
   ]
  },
  {
   "cell_type": "code",
   "execution_count": 5,
   "metadata": {
    "collapsed": false
   },
   "outputs": [
    {
     "data": {
      "text/plain": [
       "(<matplotlib.image.AxesImage at 0x11291c810>, (-0.5, 27.5, 27.5, -0.5))"
      ]
     },
     "execution_count": 5,
     "metadata": {},
     "output_type": "execute_result"
    },
    {
     "data": {
      "image/png": "[encoded data removed]",
      "text/plain": [
       "<matplotlib.figure.Figure at 0x10a3f80d0>"
      ]
     },
     "metadata": {},
     "output_type": "display_data"
    }
   ],
   "source": [
    "code, x_hat_test = encoder([x_test[100:200]])\n",
    "subplot(131)\n",
    "imshow(x_test[100:101].reshape(28, 28), cmap='gray'), axis('off')\n",
    "subplot(132)\n",
    "imshow(code[:1].reshape(N, M), cmap='gray'), axis('off')\n",
    "subplot(133)\n",
    "imshow(x_hat_test[:1].reshape(28, 28), cmap='gray'), axis('off')"
   ]
  },
  {
   "cell_type": "code",
   "execution_count": null,
   "metadata": {
    "collapsed": true
   },
   "outputs": [],
   "source": []
  }
 ],
 "metadata": {
  "kernelspec": {
   "display_name": "Python 2",
   "language": "python",
   "name": "python2"
  },
  "language_info": {
   "codemirror_mode": {
    "name": "ipython",
    "version": 2
   },
   "file_extension": ".py",
   "mimetype": "text/x-python",
   "name": "python",
   "nbconvert_exporter": "python",
   "pygments_lexer": "ipython2",
   "version": "2.7.12"
  }
 },
 "nbformat": 4,
 "nbformat_minor": 0
}
